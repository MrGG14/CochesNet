{
 "cells": [
  {
   "cell_type": "code",
   "execution_count": 1,
   "id": "a09dea84",
   "metadata": {
    "vscode": {
     "languageId": "markdown"
    }
   },
   "outputs": [],
   "source": [
    "import requests\n",
    "import pandas as pd\n",
    "import selenium\n",
    "import undetected_chromedriver as uc\n",
    "from selenium.webdriver.common.by import By\n",
    "import time\n",
    "import random\n"
   ]
  },
  {
   "cell_type": "code",
   "execution_count": 5,
   "id": "ad1493e2",
   "metadata": {
    "vscode": {
     "languageId": "markdown"
    }
   },
   "outputs": [],
   "source": [
    "#pip install undetected_chromedriver"
   ]
  },
  {
   "cell_type": "code",
   "execution_count": 11,
   "id": "d9bb3abc",
   "metadata": {},
   "outputs": [
    {
     "name": "stdout",
     "output_type": "stream",
     "text": [
      "Página cargada con éxito\n",
      "No se encontró el botón de aceptar cookies: Message: no such element: Unable to locate element: {\"method\":\"css selector\",\"selector\":\"[id=\"didomi-notice-agree-button\"]\"}\n",
      "  (Session info: chrome=137.0.7151.120); For documentation on this error, please visit: https://www.selenium.dev/documentation/webdriver/troubleshooting/errors#no-such-element-exception\n",
      "Stacktrace:\n",
      "\tGetHandleVerifier [0x0x9d3b03+62899]\n",
      "\tGetHandleVerifier [0x0x9d3b44+62964]\n",
      "\t(No symbol) [0x0x8010f3]\n",
      "\t(No symbol) [0x0x84980e]\n",
      "\t(No symbol) [0x0x849bab]\n",
      "\t(No symbol) [0x0x8925c2]\n",
      "\t(No symbol) [0x0x86e554]\n",
      "\t(No symbol) [0x0x88fd81]\n",
      "\t(No symbol) [0x0x86e306]\n",
      "\t(No symbol) [0x0x83d670]\n",
      "\t(No symbol) [0x0x83e4e4]\n",
      "\tGetHandleVerifier [0x0xc34793+2556483]\n",
      "\tGetHandleVerifier [0x0xc2fd02+2537394]\n",
      "\tGetHandleVerifier [0x0x9fa2fa+220586]\n",
      "\tGetHandleVerifier [0x0x9eaae8+157080]\n",
      "\tGetHandleVerifier [0x0x9f141d+184013]\n",
      "\tGetHandleVerifier [0x0x9dba68+95512]\n",
      "\tGetHandleVerifier [0x0x9dbc10+95936]\n",
      "\tGetHandleVerifier [0x0x9c6b5a+9738]\n",
      "\tBaseThreadInitThunk [0x0x76655d49+25]\n",
      "\tRtlInitializeExceptionChain [0x0x770bd03b+107]\n",
      "\tRtlGetAppContainerNamedObjectPath [0x0x770bcfc1+561]\n",
      "\n",
      "Cerrando el navegador\n"
     ]
    }
   ],
   "source": [
    "import undetected_chromedriver as uc\n",
    "from selenium.webdriver.common.by import By\n",
    "import time\n",
    "import random\n",
    "# Cambiar el user-agent para simular un navegador real\n",
    "# El user-agent que tienes es de Chrome 114, pero tu Chrome es versión 137.\n",
    "# Puedes actualizar el user-agent para que coincida con tu versión real de Chrome:\n",
    "\n",
    "\n",
    "# Inicializar el navegador con undetected_chromedriver\n",
    "# Ya estás usando undetected_chromedriver, que ayuda a evitar la detección.\n",
    "# Además, puedes agregar opciones para hacer el navegador más \"humano\":\n",
    "\n",
    "# options = uc.ChromeOptions()\n",
    "# options.add_argument(\"--disable-blink-features=AutomationControlled\")\n",
    "# options.add_argument(\"--no-sandbox\")\n",
    "# options.add_argument(\"--disable-infobars\")\n",
    "# options.add_argument(\"--disable-extensions\")\n",
    "# options.add_argument(\"--profile-directory=Default\")\n",
    "# options.add_argument(\"--disable-plugins-discovery\")\n",
    "# options.add_argument(\"--start-maximized\")\n",
    "# options.add_argument(\"--disable-dev-shm-usage\")\n",
    "# user_agent = \"Mozilla/5.0 (Windows NT 10.0; Win64; x64) AppleWebKit/537.36 (KHTML, like Gecko) Chrome/137.0.7151.120 Safari/537.36\"\n",
    "# options.add_argument(f\"user-agent={user_agent}\")\n",
    "\n",
    "# Desactivar la automatización de Selenium en el navegador\n",
    "# options.add_experimental_option(\"excludeSwitches\", [\"enable-automation\"])\n",
    "# options.add_experimental_option(\"useAutomationExtension\", False)\n",
    "# options.add_argument(\"user_agent=Mozilla/5.0 (Windows NT 10.0; Win64; x64) AppleWebKit/537.36 (KHTML, like Gecko) Chrome/114.0.0.0 Safari/537.36\")\n",
    "\n",
    "driver = uc.Chrome()  # options=options\n",
    "# df = pd.DataFrame(columns=[\"title\", \"price\", \"kms\", \"year\", \"cv\", \"url\"])\n",
    "try:\n",
    "    # URL a scrapear\n",
    "    url = \"https://www.coches.net/search/?MakeIds%5B0%5D=7&ModelIds%5B0%5D=282\"  # \"https://www.coches.net/search/?hasPhoto=false&wwa=false\"\n",
    "    driver.get(url)\n",
    "    print(\"Página cargada con éxito\")\n",
    "\n",
    "    # Esperar a que la página cargue completamente\n",
    "    time.sleep(random.uniform(5, 10))  # Pausa aleatoria entre 2 y 5 segundos\n",
    "\n",
    "    # Buscar el botón por ID y hacer clic\n",
    "    try:\n",
    "        agree_button = driver.find_element(By.ID, \"didomi-notice-agree-button\")\n",
    "        agree_button.click()\n",
    "        print(\"Se hizo clic en el botón de aceptar cookies\")\n",
    "    except Exception as e:\n",
    "        print(f\"No se encontró el botón de aceptar cookies: {e}\")\n",
    "\n",
    "    # Esperar después de hacer clic\n",
    "    time.sleep(random.uniform(2, 5))\n",
    "    # Desplazar hasta el fondo de la página para cargar más contenido\n",
    "    # Hacer scroll incrementalmente hasta que no se carguen más anuncios nuevos\n",
    "    # Hacer un único barrido incremental de la página completa\n",
    "    scroll_increment = 400\n",
    "    last_height = driver.execute_script(\"return document.body.scrollHeight\")\n",
    "    current_position = 0\n",
    "    while current_position < last_height:\n",
    "        driver.execute_script(f\"window.scrollTo(0, {current_position});\")\n",
    "        time.sleep(random.uniform(0.5, 1.2))\n",
    "        current_position += scroll_increment\n",
    "        # Actualizar last_height en caso de que se cargue más contenido dinámicamente\n",
    "        last_height = driver.execute_script(\"return document.body.scrollHeight\")\n",
    "    # Asegurarse de llegar al final\n",
    "    driver.execute_script(\"window.scrollTo(0, document.body.scrollHeight);\")\n",
    "    # time.sleep()\n",
    "\n",
    "    time.sleep(random.uniform(2, 5))  # Esperar a que cargue el contenido adicional\n",
    "    # Extraer títulos de los anuncios (ajusta el selector según la estructura HTML real)\n",
    "    car_titles = driver.find_elements(By.CLASS_NAME, \"mt-CardAd-infoHeaderTitleLink\")\n",
    "\n",
    "    # Imprimir los títulos extraídos\n",
    "    for title in car_titles:\n",
    "        print(title.text)\n",
    "\n",
    "finally:\n",
    "    # Cerrar el navegador\n",
    "    print(\"Cerrando el navegador\")\n",
    "    driver.quit()"
   ]
  }
 ],
 "metadata": {
  "kernelspec": {
   "display_name": "Python 3",
   "language": "python",
   "name": "python3"
  },
  "language_info": {
   "codemirror_mode": {
    "name": "ipython",
    "version": 3
   },
   "file_extension": ".py",
   "mimetype": "text/x-python",
   "name": "python",
   "nbconvert_exporter": "python",
   "pygments_lexer": "ipython3",
   "version": "3.12.4"
  }
 },
 "nbformat": 4,
 "nbformat_minor": 5
}
